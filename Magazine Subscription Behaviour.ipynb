{
 "cells": [
  {
   "cell_type": "markdown",
   "id": "14d2ada4",
   "metadata": {},
   "source": [
    "Sakshi Mude\n",
    "\n",
    "Northeastern University"
   ]
  },
  {
   "cell_type": "markdown",
   "id": "9984dfe5",
   "metadata": {},
   "source": [
    "## Introduction\n",
    "\n",
    "In this analysis, we aim to understand why a magazine publisher's revenues have been declining by examining a dataset with 29 columns and 2240 rows. Our goal is to identify the publisher's frequent subscribers, like other businesses, by using various techniques, including logistic regression, support vector machines, and decision trees. The dataset is composed mainly of two categorical variables: education and marital status, while the rest of the data are either binary or numerical. By analyzing this dataset, we hope to gain insights that will help the publisher improve its subscription rates and revenue."
   ]
  },
  {
   "cell_type": "code",
   "execution_count": 1,
   "id": "b98e502d",
   "metadata": {},
   "outputs": [],
   "source": [
    "import pandas as pd\n",
    "import seaborn as sns\n",
    "import matplotlib.pyplot as plt\n",
    "import numpy as np\n",
    "import warnings\n",
    "import statsmodels.api as sm\n",
    "warnings.filterwarnings('ignore')\n",
    "from statsmodels.stats.outliers_influence import variance_inflation_factor\n",
    "from sklearn.model_selection import train_test_split\n",
    "from sklearn.tree import DecisionTreeClassifier\n",
    "from sklearn.metrics import accuracy_score\n",
    "from sklearn.linear_model import LogisticRegression\n",
    "from sklearn.metrics import classification_report, confusion_matrix,plot_confusion_matrix\n",
    "from sklearn import metrics\n",
    "from sklearn import svm\n",
    "\n"
   ]
  },
  {
   "cell_type": "code",
   "execution_count": 2,
   "id": "44948798",
   "metadata": {},
   "outputs": [],
   "source": [
    "marketing_data = pd.read_csv(\"/users/sakshi/Downloads/marketing_campaign-1.csv\")\n",
    "\n"
   ]
  },
  {
   "cell_type": "code",
   "execution_count": 3,
   "id": "791defe3",
   "metadata": {
    "scrolled": true
   },
   "outputs": [
    {
     "name": "stdout",
     "output_type": "stream",
     "text": [
      "<class 'pandas.core.frame.DataFrame'>\n",
      "RangeIndex: 2240 entries, 0 to 2239\n",
      "Data columns (total 29 columns):\n",
      " #   Column               Non-Null Count  Dtype  \n",
      "---  ------               --------------  -----  \n",
      " 0   ID                   2240 non-null   int64  \n",
      " 1   Year_Birth           2240 non-null   int64  \n",
      " 2   Education            2240 non-null   object \n",
      " 3   Marital_Status       2240 non-null   object \n",
      " 4   Income               2216 non-null   float64\n",
      " 5   Kidhome              2240 non-null   int64  \n",
      " 6   Teenhome             2240 non-null   int64  \n",
      " 7   Dt_Customer          2240 non-null   object \n",
      " 8   Recency              2240 non-null   int64  \n",
      " 9   MntWines             2240 non-null   int64  \n",
      " 10  MntFruits            2240 non-null   int64  \n",
      " 11  MntMeatProducts      2240 non-null   int64  \n",
      " 12  MntFishProducts      2240 non-null   int64  \n",
      " 13  MntSweetProducts     2240 non-null   int64  \n",
      " 14  MntGoldProds         2240 non-null   int64  \n",
      " 15  NumDealsPurchases    2240 non-null   int64  \n",
      " 16  NumWebPurchases      2240 non-null   int64  \n",
      " 17  NumCatalogPurchases  2240 non-null   int64  \n",
      " 18  NumStorePurchases    2240 non-null   int64  \n",
      " 19  NumWebVisitsMonth    2240 non-null   int64  \n",
      " 20  AcceptedCmp3         2240 non-null   int64  \n",
      " 21  AcceptedCmp4         2240 non-null   int64  \n",
      " 22  AcceptedCmp5         2240 non-null   int64  \n",
      " 23  AcceptedCmp1         2240 non-null   int64  \n",
      " 24  AcceptedCmp2         2240 non-null   int64  \n",
      " 25  Complain             2240 non-null   int64  \n",
      " 26  Z_CostContact        2240 non-null   int64  \n",
      " 27  Z_Revenue            2240 non-null   int64  \n",
      " 28  Response             2240 non-null   int64  \n",
      "dtypes: float64(1), int64(25), object(3)\n",
      "memory usage: 507.6+ KB\n"
     ]
    }
   ],
   "source": [
    "marketing_data.info()"
   ]
  },
  {
   "cell_type": "code",
   "execution_count": 4,
   "id": "cf862a86",
   "metadata": {},
   "outputs": [
    {
     "data": {
      "text/plain": [
       "(2240, 29)"
      ]
     },
     "execution_count": 4,
     "metadata": {},
     "output_type": "execute_result"
    }
   ],
   "source": [
    "marketing_data.shape"
   ]
  },
  {
   "cell_type": "code",
   "execution_count": 5,
   "id": "9269d84d",
   "metadata": {},
   "outputs": [
    {
     "data": {
      "text/plain": [
       "0    2096\n",
       "1     144\n",
       "Name: AcceptedCmp1, dtype: int64"
      ]
     },
     "execution_count": 5,
     "metadata": {},
     "output_type": "execute_result"
    }
   ],
   "source": [
    "marketing_data['AcceptedCmp1'].value_counts()"
   ]
  },
  {
   "cell_type": "code",
   "execution_count": 6,
   "id": "18581343",
   "metadata": {},
   "outputs": [
    {
     "data": {
      "text/html": [
       "<div>\n",
       "<style scoped>\n",
       "    .dataframe tbody tr th:only-of-type {\n",
       "        vertical-align: middle;\n",
       "    }\n",
       "\n",
       "    .dataframe tbody tr th {\n",
       "        vertical-align: top;\n",
       "    }\n",
       "\n",
       "    .dataframe thead th {\n",
       "        text-align: right;\n",
       "    }\n",
       "</style>\n",
       "<table border=\"1\" class=\"dataframe\">\n",
       "  <thead>\n",
       "    <tr style=\"text-align: right;\">\n",
       "      <th></th>\n",
       "      <th>ID</th>\n",
       "      <th>Year_Birth</th>\n",
       "      <th>Income</th>\n",
       "      <th>Kidhome</th>\n",
       "      <th>Teenhome</th>\n",
       "      <th>Recency</th>\n",
       "      <th>MntWines</th>\n",
       "      <th>MntFruits</th>\n",
       "      <th>MntMeatProducts</th>\n",
       "      <th>MntFishProducts</th>\n",
       "      <th>...</th>\n",
       "      <th>NumWebVisitsMonth</th>\n",
       "      <th>AcceptedCmp3</th>\n",
       "      <th>AcceptedCmp4</th>\n",
       "      <th>AcceptedCmp5</th>\n",
       "      <th>AcceptedCmp1</th>\n",
       "      <th>AcceptedCmp2</th>\n",
       "      <th>Complain</th>\n",
       "      <th>Z_CostContact</th>\n",
       "      <th>Z_Revenue</th>\n",
       "      <th>Response</th>\n",
       "    </tr>\n",
       "  </thead>\n",
       "  <tbody>\n",
       "    <tr>\n",
       "      <th>count</th>\n",
       "      <td>2240.000000</td>\n",
       "      <td>2240.000000</td>\n",
       "      <td>2216.000000</td>\n",
       "      <td>2240.000000</td>\n",
       "      <td>2240.000000</td>\n",
       "      <td>2240.000000</td>\n",
       "      <td>2240.000000</td>\n",
       "      <td>2240.000000</td>\n",
       "      <td>2240.000000</td>\n",
       "      <td>2240.000000</td>\n",
       "      <td>...</td>\n",
       "      <td>2240.000000</td>\n",
       "      <td>2240.000000</td>\n",
       "      <td>2240.000000</td>\n",
       "      <td>2240.000000</td>\n",
       "      <td>2240.000000</td>\n",
       "      <td>2240.000000</td>\n",
       "      <td>2240.000000</td>\n",
       "      <td>2240.0</td>\n",
       "      <td>2240.0</td>\n",
       "      <td>2240.000000</td>\n",
       "    </tr>\n",
       "    <tr>\n",
       "      <th>mean</th>\n",
       "      <td>5592.159821</td>\n",
       "      <td>1968.805804</td>\n",
       "      <td>52247.251354</td>\n",
       "      <td>0.444196</td>\n",
       "      <td>0.506250</td>\n",
       "      <td>49.109375</td>\n",
       "      <td>303.935714</td>\n",
       "      <td>26.302232</td>\n",
       "      <td>166.950000</td>\n",
       "      <td>37.525446</td>\n",
       "      <td>...</td>\n",
       "      <td>5.316518</td>\n",
       "      <td>0.072768</td>\n",
       "      <td>0.074554</td>\n",
       "      <td>0.072768</td>\n",
       "      <td>0.064286</td>\n",
       "      <td>0.013393</td>\n",
       "      <td>0.009375</td>\n",
       "      <td>3.0</td>\n",
       "      <td>11.0</td>\n",
       "      <td>0.149107</td>\n",
       "    </tr>\n",
       "    <tr>\n",
       "      <th>std</th>\n",
       "      <td>3246.662198</td>\n",
       "      <td>11.984069</td>\n",
       "      <td>25173.076661</td>\n",
       "      <td>0.538398</td>\n",
       "      <td>0.544538</td>\n",
       "      <td>28.962453</td>\n",
       "      <td>336.597393</td>\n",
       "      <td>39.773434</td>\n",
       "      <td>225.715373</td>\n",
       "      <td>54.628979</td>\n",
       "      <td>...</td>\n",
       "      <td>2.426645</td>\n",
       "      <td>0.259813</td>\n",
       "      <td>0.262728</td>\n",
       "      <td>0.259813</td>\n",
       "      <td>0.245316</td>\n",
       "      <td>0.114976</td>\n",
       "      <td>0.096391</td>\n",
       "      <td>0.0</td>\n",
       "      <td>0.0</td>\n",
       "      <td>0.356274</td>\n",
       "    </tr>\n",
       "    <tr>\n",
       "      <th>min</th>\n",
       "      <td>0.000000</td>\n",
       "      <td>1893.000000</td>\n",
       "      <td>1730.000000</td>\n",
       "      <td>0.000000</td>\n",
       "      <td>0.000000</td>\n",
       "      <td>0.000000</td>\n",
       "      <td>0.000000</td>\n",
       "      <td>0.000000</td>\n",
       "      <td>0.000000</td>\n",
       "      <td>0.000000</td>\n",
       "      <td>...</td>\n",
       "      <td>0.000000</td>\n",
       "      <td>0.000000</td>\n",
       "      <td>0.000000</td>\n",
       "      <td>0.000000</td>\n",
       "      <td>0.000000</td>\n",
       "      <td>0.000000</td>\n",
       "      <td>0.000000</td>\n",
       "      <td>3.0</td>\n",
       "      <td>11.0</td>\n",
       "      <td>0.000000</td>\n",
       "    </tr>\n",
       "    <tr>\n",
       "      <th>25%</th>\n",
       "      <td>2828.250000</td>\n",
       "      <td>1959.000000</td>\n",
       "      <td>35303.000000</td>\n",
       "      <td>0.000000</td>\n",
       "      <td>0.000000</td>\n",
       "      <td>24.000000</td>\n",
       "      <td>23.750000</td>\n",
       "      <td>1.000000</td>\n",
       "      <td>16.000000</td>\n",
       "      <td>3.000000</td>\n",
       "      <td>...</td>\n",
       "      <td>3.000000</td>\n",
       "      <td>0.000000</td>\n",
       "      <td>0.000000</td>\n",
       "      <td>0.000000</td>\n",
       "      <td>0.000000</td>\n",
       "      <td>0.000000</td>\n",
       "      <td>0.000000</td>\n",
       "      <td>3.0</td>\n",
       "      <td>11.0</td>\n",
       "      <td>0.000000</td>\n",
       "    </tr>\n",
       "    <tr>\n",
       "      <th>50%</th>\n",
       "      <td>5458.500000</td>\n",
       "      <td>1970.000000</td>\n",
       "      <td>51381.500000</td>\n",
       "      <td>0.000000</td>\n",
       "      <td>0.000000</td>\n",
       "      <td>49.000000</td>\n",
       "      <td>173.500000</td>\n",
       "      <td>8.000000</td>\n",
       "      <td>67.000000</td>\n",
       "      <td>12.000000</td>\n",
       "      <td>...</td>\n",
       "      <td>6.000000</td>\n",
       "      <td>0.000000</td>\n",
       "      <td>0.000000</td>\n",
       "      <td>0.000000</td>\n",
       "      <td>0.000000</td>\n",
       "      <td>0.000000</td>\n",
       "      <td>0.000000</td>\n",
       "      <td>3.0</td>\n",
       "      <td>11.0</td>\n",
       "      <td>0.000000</td>\n",
       "    </tr>\n",
       "    <tr>\n",
       "      <th>75%</th>\n",
       "      <td>8427.750000</td>\n",
       "      <td>1977.000000</td>\n",
       "      <td>68522.000000</td>\n",
       "      <td>1.000000</td>\n",
       "      <td>1.000000</td>\n",
       "      <td>74.000000</td>\n",
       "      <td>504.250000</td>\n",
       "      <td>33.000000</td>\n",
       "      <td>232.000000</td>\n",
       "      <td>50.000000</td>\n",
       "      <td>...</td>\n",
       "      <td>7.000000</td>\n",
       "      <td>0.000000</td>\n",
       "      <td>0.000000</td>\n",
       "      <td>0.000000</td>\n",
       "      <td>0.000000</td>\n",
       "      <td>0.000000</td>\n",
       "      <td>0.000000</td>\n",
       "      <td>3.0</td>\n",
       "      <td>11.0</td>\n",
       "      <td>0.000000</td>\n",
       "    </tr>\n",
       "    <tr>\n",
       "      <th>max</th>\n",
       "      <td>11191.000000</td>\n",
       "      <td>1996.000000</td>\n",
       "      <td>666666.000000</td>\n",
       "      <td>2.000000</td>\n",
       "      <td>2.000000</td>\n",
       "      <td>99.000000</td>\n",
       "      <td>1493.000000</td>\n",
       "      <td>199.000000</td>\n",
       "      <td>1725.000000</td>\n",
       "      <td>259.000000</td>\n",
       "      <td>...</td>\n",
       "      <td>20.000000</td>\n",
       "      <td>1.000000</td>\n",
       "      <td>1.000000</td>\n",
       "      <td>1.000000</td>\n",
       "      <td>1.000000</td>\n",
       "      <td>1.000000</td>\n",
       "      <td>1.000000</td>\n",
       "      <td>3.0</td>\n",
       "      <td>11.0</td>\n",
       "      <td>1.000000</td>\n",
       "    </tr>\n",
       "  </tbody>\n",
       "</table>\n",
       "<p>8 rows × 26 columns</p>\n",
       "</div>"
      ],
      "text/plain": [
       "                 ID   Year_Birth         Income      Kidhome     Teenhome  \\\n",
       "count   2240.000000  2240.000000    2216.000000  2240.000000  2240.000000   \n",
       "mean    5592.159821  1968.805804   52247.251354     0.444196     0.506250   \n",
       "std     3246.662198    11.984069   25173.076661     0.538398     0.544538   \n",
       "min        0.000000  1893.000000    1730.000000     0.000000     0.000000   \n",
       "25%     2828.250000  1959.000000   35303.000000     0.000000     0.000000   \n",
       "50%     5458.500000  1970.000000   51381.500000     0.000000     0.000000   \n",
       "75%     8427.750000  1977.000000   68522.000000     1.000000     1.000000   \n",
       "max    11191.000000  1996.000000  666666.000000     2.000000     2.000000   \n",
       "\n",
       "           Recency     MntWines    MntFruits  MntMeatProducts  \\\n",
       "count  2240.000000  2240.000000  2240.000000      2240.000000   \n",
       "mean     49.109375   303.935714    26.302232       166.950000   \n",
       "std      28.962453   336.597393    39.773434       225.715373   \n",
       "min       0.000000     0.000000     0.000000         0.000000   \n",
       "25%      24.000000    23.750000     1.000000        16.000000   \n",
       "50%      49.000000   173.500000     8.000000        67.000000   \n",
       "75%      74.000000   504.250000    33.000000       232.000000   \n",
       "max      99.000000  1493.000000   199.000000      1725.000000   \n",
       "\n",
       "       MntFishProducts  ...  NumWebVisitsMonth  AcceptedCmp3  AcceptedCmp4  \\\n",
       "count      2240.000000  ...        2240.000000   2240.000000   2240.000000   \n",
       "mean         37.525446  ...           5.316518      0.072768      0.074554   \n",
       "std          54.628979  ...           2.426645      0.259813      0.262728   \n",
       "min           0.000000  ...           0.000000      0.000000      0.000000   \n",
       "25%           3.000000  ...           3.000000      0.000000      0.000000   \n",
       "50%          12.000000  ...           6.000000      0.000000      0.000000   \n",
       "75%          50.000000  ...           7.000000      0.000000      0.000000   \n",
       "max         259.000000  ...          20.000000      1.000000      1.000000   \n",
       "\n",
       "       AcceptedCmp5  AcceptedCmp1  AcceptedCmp2     Complain  Z_CostContact  \\\n",
       "count   2240.000000   2240.000000   2240.000000  2240.000000         2240.0   \n",
       "mean       0.072768      0.064286      0.013393     0.009375            3.0   \n",
       "std        0.259813      0.245316      0.114976     0.096391            0.0   \n",
       "min        0.000000      0.000000      0.000000     0.000000            3.0   \n",
       "25%        0.000000      0.000000      0.000000     0.000000            3.0   \n",
       "50%        0.000000      0.000000      0.000000     0.000000            3.0   \n",
       "75%        0.000000      0.000000      0.000000     0.000000            3.0   \n",
       "max        1.000000      1.000000      1.000000     1.000000            3.0   \n",
       "\n",
       "       Z_Revenue     Response  \n",
       "count     2240.0  2240.000000  \n",
       "mean        11.0     0.149107  \n",
       "std          0.0     0.356274  \n",
       "min         11.0     0.000000  \n",
       "25%         11.0     0.000000  \n",
       "50%         11.0     0.000000  \n",
       "75%         11.0     0.000000  \n",
       "max         11.0     1.000000  \n",
       "\n",
       "[8 rows x 26 columns]"
      ]
     },
     "execution_count": 6,
     "metadata": {},
     "output_type": "execute_result"
    }
   ],
   "source": [
    "marketing_data.describe()"
   ]
  },
  {
   "cell_type": "markdown",
   "id": "52ee4cd7",
   "metadata": {},
   "source": [
    "### Data Cleaning\n",
    "The dataset contains 29 columns and 2240 rows with a relatively clean and consistent structure that allows \n",
    "for easy modeling. However, some missing values are present, particularly in the Income column where 24 entries \n",
    "are incomplete. In this situation, we opt to remove these missing values from the dataset since they constitute a \n",
    "small fraction of the overall data. Additionally, we have checked for duplicated values in the dataset to ensure \n",
    "data integrity."
   ]
  },
  {
   "cell_type": "code",
   "execution_count": 7,
   "id": "78a207a4",
   "metadata": {},
   "outputs": [
    {
     "data": {
      "text/plain": [
       "ID                      0\n",
       "Year_Birth              0\n",
       "Education               0\n",
       "Marital_Status          0\n",
       "Income                 24\n",
       "Kidhome                 0\n",
       "Teenhome                0\n",
       "Dt_Customer             0\n",
       "Recency                 0\n",
       "MntWines                0\n",
       "MntFruits               0\n",
       "MntMeatProducts         0\n",
       "MntFishProducts         0\n",
       "MntSweetProducts        0\n",
       "MntGoldProds            0\n",
       "NumDealsPurchases       0\n",
       "NumWebPurchases         0\n",
       "NumCatalogPurchases     0\n",
       "NumStorePurchases       0\n",
       "NumWebVisitsMonth       0\n",
       "AcceptedCmp3            0\n",
       "AcceptedCmp4            0\n",
       "AcceptedCmp5            0\n",
       "AcceptedCmp1            0\n",
       "AcceptedCmp2            0\n",
       "Complain                0\n",
       "Z_CostContact           0\n",
       "Z_Revenue               0\n",
       "Response                0\n",
       "dtype: int64"
      ]
     },
     "execution_count": 7,
     "metadata": {},
     "output_type": "execute_result"
    }
   ],
   "source": [
    "# Checking Null values\n",
    "marketing_data.isnull().sum()"
   ]
  },
  {
   "cell_type": "code",
   "execution_count": 8,
   "id": "061946b6",
   "metadata": {},
   "outputs": [
    {
     "data": {
      "text/plain": [
       "ID                     2240\n",
       "Year_Birth             2240\n",
       "Education              2240\n",
       "Marital_Status         2240\n",
       "Income                 2240\n",
       "Kidhome                2240\n",
       "Teenhome               2240\n",
       "Dt_Customer            2240\n",
       "Recency                2240\n",
       "MntWines               2240\n",
       "MntFruits              2240\n",
       "MntMeatProducts        2240\n",
       "MntFishProducts        2240\n",
       "MntSweetProducts       2240\n",
       "MntGoldProds           2240\n",
       "NumDealsPurchases      2240\n",
       "NumWebPurchases        2240\n",
       "NumCatalogPurchases    2240\n",
       "NumStorePurchases      2240\n",
       "NumWebVisitsMonth      2240\n",
       "AcceptedCmp3           2240\n",
       "AcceptedCmp4           2240\n",
       "AcceptedCmp5           2240\n",
       "AcceptedCmp1           2240\n",
       "AcceptedCmp2           2240\n",
       "Complain               2240\n",
       "Z_CostContact          2240\n",
       "Z_Revenue              2240\n",
       "Response               2240\n",
       "dtype: int64"
      ]
     },
     "execution_count": 8,
     "metadata": {},
     "output_type": "execute_result"
    }
   ],
   "source": [
    "marketing_data.isna().count()"
   ]
  },
  {
   "cell_type": "code",
   "execution_count": 9,
   "id": "ab88e65f",
   "metadata": {},
   "outputs": [
    {
     "data": {
      "text/plain": [
       "ID                       int64\n",
       "Year_Birth               int64\n",
       "Education               object\n",
       "Marital_Status          object\n",
       "Income                 float64\n",
       "Kidhome                  int64\n",
       "Teenhome                 int64\n",
       "Dt_Customer             object\n",
       "Recency                  int64\n",
       "MntWines                 int64\n",
       "MntFruits                int64\n",
       "MntMeatProducts          int64\n",
       "MntFishProducts          int64\n",
       "MntSweetProducts         int64\n",
       "MntGoldProds             int64\n",
       "NumDealsPurchases        int64\n",
       "NumWebPurchases          int64\n",
       "NumCatalogPurchases      int64\n",
       "NumStorePurchases        int64\n",
       "NumWebVisitsMonth        int64\n",
       "AcceptedCmp3             int64\n",
       "AcceptedCmp4             int64\n",
       "AcceptedCmp5             int64\n",
       "AcceptedCmp1             int64\n",
       "AcceptedCmp2             int64\n",
       "Complain                 int64\n",
       "Z_CostContact            int64\n",
       "Z_Revenue                int64\n",
       "Response                 int64\n",
       "dtype: object"
      ]
     },
     "execution_count": 9,
     "metadata": {},
     "output_type": "execute_result"
    }
   ],
   "source": [
    "marketing_data.dtypes"
   ]
  },
  {
   "cell_type": "code",
   "execution_count": 10,
   "id": "84ff087f",
   "metadata": {},
   "outputs": [],
   "source": [
    "marketing_data = marketing_data.dropna()"
   ]
  },
  {
   "cell_type": "code",
   "execution_count": 11,
   "id": "afb08e21",
   "metadata": {},
   "outputs": [
    {
     "data": {
      "text/plain": [
       "ID                     0\n",
       "Year_Birth             0\n",
       "Education              0\n",
       "Marital_Status         0\n",
       "Income                 0\n",
       "Kidhome                0\n",
       "Teenhome               0\n",
       "Dt_Customer            0\n",
       "Recency                0\n",
       "MntWines               0\n",
       "MntFruits              0\n",
       "MntMeatProducts        0\n",
       "MntFishProducts        0\n",
       "MntSweetProducts       0\n",
       "MntGoldProds           0\n",
       "NumDealsPurchases      0\n",
       "NumWebPurchases        0\n",
       "NumCatalogPurchases    0\n",
       "NumStorePurchases      0\n",
       "NumWebVisitsMonth      0\n",
       "AcceptedCmp3           0\n",
       "AcceptedCmp4           0\n",
       "AcceptedCmp5           0\n",
       "AcceptedCmp1           0\n",
       "AcceptedCmp2           0\n",
       "Complain               0\n",
       "Z_CostContact          0\n",
       "Z_Revenue              0\n",
       "Response               0\n",
       "dtype: int64"
      ]
     },
     "execution_count": 11,
     "metadata": {},
     "output_type": "execute_result"
    }
   ],
   "source": [
    "# Checking Null values\n",
    "marketing_data.isnull().sum()"
   ]
  },
  {
   "cell_type": "markdown",
   "id": "d00bc3e6",
   "metadata": {},
   "source": [
    "## Exploratory data analysis\n",
    "Exploratory data analysis helps us better understand the story the data is telling and how different factors affect why people don't subscribe to magazines. To ascertain how the data is interacting with us, we evaluate its descriptive statistics. We may understand the data's trend and other features, such as its minimum and maximum values, by looking at the figure below. Based on the income and educational background of each subscriber, we have a bar plot that estimates the number of subscribers. This helps us understand how these variables might affect the modeling and understanding of data in the future.\n",
    "\n",
    "Through the use of correlation plots, we can demonstrate how different variables affect and change the target variable. The strength or weakness of the relationship between the dependent and independent variables can be assessed using this correlation table. By using color coding to make the data easier to read, the correlation graph aids in our understanding of the link. We can comprehend the nature of these variable patterns and what needs to be taken into consideration for subsequent research thanks to the correlation plot"
   ]
  },
  {
   "cell_type": "code",
   "execution_count": 12,
   "id": "1370c5fe",
   "metadata": {},
   "outputs": [
    {
     "data": {
      "text/plain": [
       "Index(['ID', 'Year_Birth', 'Education', 'Marital_Status', 'Income', 'Kidhome',\n",
       "       'Teenhome', 'Dt_Customer', 'Recency', 'MntWines', 'MntFruits',\n",
       "       'MntMeatProducts', 'MntFishProducts', 'MntSweetProducts',\n",
       "       'MntGoldProds', 'NumDealsPurchases', 'NumWebPurchases',\n",
       "       'NumCatalogPurchases', 'NumStorePurchases', 'NumWebVisitsMonth',\n",
       "       'AcceptedCmp3', 'AcceptedCmp4', 'AcceptedCmp5', 'AcceptedCmp1',\n",
       "       'AcceptedCmp2', 'Complain', 'Z_CostContact', 'Z_Revenue', 'Response'],\n",
       "      dtype='object')"
      ]
     },
     "execution_count": 12,
     "metadata": {},
     "output_type": "execute_result"
    }
   ],
   "source": [
    "marketing_data.columns"
   ]
  },
  {
   "cell_type": "code",
   "execution_count": 13,
   "id": "0b036104",
   "metadata": {},
   "outputs": [
    {
     "data": {
      "text/plain": [
       "pandas.core.series.Series"
      ]
     },
     "execution_count": 13,
     "metadata": {},
     "output_type": "execute_result"
    }
   ],
   "source": [
    "type(marketing_data.Income)"
   ]
  },
  {
   "cell_type": "code",
   "execution_count": 14,
   "id": "d47618fb",
   "metadata": {},
   "outputs": [],
   "source": [
    "marketing_data = marketing_data.drop(['AcceptedCmp3','AcceptedCmp4','AcceptedCmp5','AcceptedCmp2','Z_CostContact','Z_Revenue','Dt_Customer'],axis=1)"
   ]
  },
  {
   "cell_type": "code",
   "execution_count": 15,
   "id": "7bdaa705",
   "metadata": {},
   "outputs": [],
   "source": [
    "y = marketing_data.pop('AcceptedCmp1')\n",
    "marketing_data.insert(0,'AcceptedCmp1',y)"
   ]
  },
  {
   "cell_type": "code",
   "execution_count": 16,
   "id": "b678c4d9",
   "metadata": {},
   "outputs": [
    {
     "data": {
      "text/html": [
       "<div>\n",
       "<style scoped>\n",
       "    .dataframe tbody tr th:only-of-type {\n",
       "        vertical-align: middle;\n",
       "    }\n",
       "\n",
       "    .dataframe tbody tr th {\n",
       "        vertical-align: top;\n",
       "    }\n",
       "\n",
       "    .dataframe thead th {\n",
       "        text-align: right;\n",
       "    }\n",
       "</style>\n",
       "<table border=\"1\" class=\"dataframe\">\n",
       "  <thead>\n",
       "    <tr style=\"text-align: right;\">\n",
       "      <th></th>\n",
       "      <th>AcceptedCmp1</th>\n",
       "      <th>ID</th>\n",
       "      <th>Year_Birth</th>\n",
       "      <th>Income</th>\n",
       "      <th>Kidhome</th>\n",
       "      <th>Teenhome</th>\n",
       "      <th>Recency</th>\n",
       "      <th>MntWines</th>\n",
       "      <th>MntFruits</th>\n",
       "      <th>MntMeatProducts</th>\n",
       "      <th>MntFishProducts</th>\n",
       "      <th>MntSweetProducts</th>\n",
       "      <th>MntGoldProds</th>\n",
       "      <th>NumDealsPurchases</th>\n",
       "      <th>NumWebPurchases</th>\n",
       "      <th>NumCatalogPurchases</th>\n",
       "      <th>NumStorePurchases</th>\n",
       "      <th>NumWebVisitsMonth</th>\n",
       "      <th>Complain</th>\n",
       "      <th>Response</th>\n",
       "    </tr>\n",
       "  </thead>\n",
       "  <tbody>\n",
       "    <tr>\n",
       "      <th>AcceptedCmp1</th>\n",
       "      <td>1.000000</td>\n",
       "      <td>-0.018219</td>\n",
       "      <td>-0.009611</td>\n",
       "      <td>0.276820</td>\n",
       "      <td>-0.174163</td>\n",
       "      <td>-0.144855</td>\n",
       "      <td>-0.021061</td>\n",
       "      <td>0.351417</td>\n",
       "      <td>0.191816</td>\n",
       "      <td>0.313076</td>\n",
       "      <td>0.261608</td>\n",
       "      <td>0.245102</td>\n",
       "      <td>0.170132</td>\n",
       "      <td>-0.127374</td>\n",
       "      <td>0.159292</td>\n",
       "      <td>0.309026</td>\n",
       "      <td>0.178743</td>\n",
       "      <td>-0.194773</td>\n",
       "      <td>-0.025594</td>\n",
       "      <td>0.297345</td>\n",
       "    </tr>\n",
       "    <tr>\n",
       "      <th>ID</th>\n",
       "      <td>-0.018219</td>\n",
       "      <td>1.000000</td>\n",
       "      <td>0.002355</td>\n",
       "      <td>0.013095</td>\n",
       "      <td>0.001736</td>\n",
       "      <td>-0.003030</td>\n",
       "      <td>-0.044376</td>\n",
       "      <td>-0.021084</td>\n",
       "      <td>0.007326</td>\n",
       "      <td>-0.005902</td>\n",
       "      <td>-0.023992</td>\n",
       "      <td>-0.005936</td>\n",
       "      <td>-0.011172</td>\n",
       "      <td>-0.040612</td>\n",
       "      <td>-0.018476</td>\n",
       "      <td>-0.002274</td>\n",
       "      <td>-0.013070</td>\n",
       "      <td>-0.007794</td>\n",
       "      <td>0.034154</td>\n",
       "      <td>-0.021491</td>\n",
       "    </tr>\n",
       "    <tr>\n",
       "      <th>Year_Birth</th>\n",
       "      <td>-0.009611</td>\n",
       "      <td>0.002355</td>\n",
       "      <td>1.000000</td>\n",
       "      <td>-0.161791</td>\n",
       "      <td>0.233615</td>\n",
       "      <td>-0.350791</td>\n",
       "      <td>-0.016295</td>\n",
       "      <td>-0.159451</td>\n",
       "      <td>-0.017747</td>\n",
       "      <td>-0.033697</td>\n",
       "      <td>-0.040425</td>\n",
       "      <td>-0.020204</td>\n",
       "      <td>-0.064208</td>\n",
       "      <td>-0.058668</td>\n",
       "      <td>-0.153051</td>\n",
       "      <td>-0.121764</td>\n",
       "      <td>-0.127891</td>\n",
       "      <td>0.123904</td>\n",
       "      <td>-0.030407</td>\n",
       "      <td>0.023692</td>\n",
       "    </tr>\n",
       "    <tr>\n",
       "      <th>Income</th>\n",
       "      <td>0.276820</td>\n",
       "      <td>0.013095</td>\n",
       "      <td>-0.161791</td>\n",
       "      <td>1.000000</td>\n",
       "      <td>-0.428669</td>\n",
       "      <td>0.019133</td>\n",
       "      <td>-0.003970</td>\n",
       "      <td>0.578650</td>\n",
       "      <td>0.430842</td>\n",
       "      <td>0.584633</td>\n",
       "      <td>0.438871</td>\n",
       "      <td>0.440744</td>\n",
       "      <td>0.325916</td>\n",
       "      <td>-0.083101</td>\n",
       "      <td>0.387878</td>\n",
       "      <td>0.589162</td>\n",
       "      <td>0.529362</td>\n",
       "      <td>-0.553088</td>\n",
       "      <td>-0.027225</td>\n",
       "      <td>0.133047</td>\n",
       "    </tr>\n",
       "    <tr>\n",
       "      <th>Kidhome</th>\n",
       "      <td>-0.174163</td>\n",
       "      <td>0.001736</td>\n",
       "      <td>0.233615</td>\n",
       "      <td>-0.428669</td>\n",
       "      <td>1.000000</td>\n",
       "      <td>-0.039869</td>\n",
       "      <td>0.011492</td>\n",
       "      <td>-0.497336</td>\n",
       "      <td>-0.373396</td>\n",
       "      <td>-0.439261</td>\n",
       "      <td>-0.388884</td>\n",
       "      <td>-0.378026</td>\n",
       "      <td>-0.355029</td>\n",
       "      <td>0.216913</td>\n",
       "      <td>-0.371977</td>\n",
       "      <td>-0.504501</td>\n",
       "      <td>-0.501349</td>\n",
       "      <td>0.447477</td>\n",
       "      <td>0.040978</td>\n",
       "      <td>-0.077909</td>\n",
       "    </tr>\n",
       "    <tr>\n",
       "      <th>Teenhome</th>\n",
       "      <td>-0.144855</td>\n",
       "      <td>-0.003030</td>\n",
       "      <td>-0.350791</td>\n",
       "      <td>0.019133</td>\n",
       "      <td>-0.039869</td>\n",
       "      <td>1.000000</td>\n",
       "      <td>0.013838</td>\n",
       "      <td>0.003747</td>\n",
       "      <td>-0.176558</td>\n",
       "      <td>-0.261122</td>\n",
       "      <td>-0.205242</td>\n",
       "      <td>-0.163056</td>\n",
       "      <td>-0.019887</td>\n",
       "      <td>0.386246</td>\n",
       "      <td>0.162077</td>\n",
       "      <td>-0.112692</td>\n",
       "      <td>0.049737</td>\n",
       "      <td>0.131240</td>\n",
       "      <td>0.003307</td>\n",
       "      <td>-0.153901</td>\n",
       "    </tr>\n",
       "    <tr>\n",
       "      <th>Recency</th>\n",
       "      <td>-0.021061</td>\n",
       "      <td>-0.044376</td>\n",
       "      <td>-0.016295</td>\n",
       "      <td>-0.003970</td>\n",
       "      <td>0.011492</td>\n",
       "      <td>0.013838</td>\n",
       "      <td>1.000000</td>\n",
       "      <td>0.015721</td>\n",
       "      <td>-0.005844</td>\n",
       "      <td>0.022518</td>\n",
       "      <td>0.000551</td>\n",
       "      <td>0.025110</td>\n",
       "      <td>0.017663</td>\n",
       "      <td>0.002115</td>\n",
       "      <td>-0.005641</td>\n",
       "      <td>0.024081</td>\n",
       "      <td>-0.000434</td>\n",
       "      <td>-0.018564</td>\n",
       "      <td>0.013637</td>\n",
       "      <td>-0.199766</td>\n",
       "    </tr>\n",
       "    <tr>\n",
       "      <th>MntWines</th>\n",
       "      <td>0.351417</td>\n",
       "      <td>-0.021084</td>\n",
       "      <td>-0.159451</td>\n",
       "      <td>0.578650</td>\n",
       "      <td>-0.497336</td>\n",
       "      <td>0.003747</td>\n",
       "      <td>0.015721</td>\n",
       "      <td>1.000000</td>\n",
       "      <td>0.387024</td>\n",
       "      <td>0.568860</td>\n",
       "      <td>0.397721</td>\n",
       "      <td>0.390326</td>\n",
       "      <td>0.392731</td>\n",
       "      <td>0.008886</td>\n",
       "      <td>0.553786</td>\n",
       "      <td>0.634753</td>\n",
       "      <td>0.640012</td>\n",
       "      <td>-0.321978</td>\n",
       "      <td>-0.039470</td>\n",
       "      <td>0.246299</td>\n",
       "    </tr>\n",
       "    <tr>\n",
       "      <th>MntFruits</th>\n",
       "      <td>0.191816</td>\n",
       "      <td>0.007326</td>\n",
       "      <td>-0.017747</td>\n",
       "      <td>0.430842</td>\n",
       "      <td>-0.373396</td>\n",
       "      <td>-0.176558</td>\n",
       "      <td>-0.005844</td>\n",
       "      <td>0.387024</td>\n",
       "      <td>1.000000</td>\n",
       "      <td>0.547822</td>\n",
       "      <td>0.593431</td>\n",
       "      <td>0.571606</td>\n",
       "      <td>0.396487</td>\n",
       "      <td>-0.134512</td>\n",
       "      <td>0.302039</td>\n",
       "      <td>0.486263</td>\n",
       "      <td>0.458491</td>\n",
       "      <td>-0.418729</td>\n",
       "      <td>-0.005324</td>\n",
       "      <td>0.122443</td>\n",
       "    </tr>\n",
       "    <tr>\n",
       "      <th>MntMeatProducts</th>\n",
       "      <td>0.313076</td>\n",
       "      <td>-0.005902</td>\n",
       "      <td>-0.033697</td>\n",
       "      <td>0.584633</td>\n",
       "      <td>-0.439261</td>\n",
       "      <td>-0.261122</td>\n",
       "      <td>0.022518</td>\n",
       "      <td>0.568860</td>\n",
       "      <td>0.547822</td>\n",
       "      <td>1.000000</td>\n",
       "      <td>0.573574</td>\n",
       "      <td>0.535136</td>\n",
       "      <td>0.359446</td>\n",
       "      <td>-0.121308</td>\n",
       "      <td>0.307090</td>\n",
       "      <td>0.734127</td>\n",
       "      <td>0.486006</td>\n",
       "      <td>-0.539484</td>\n",
       "      <td>-0.023782</td>\n",
       "      <td>0.237746</td>\n",
       "    </tr>\n",
       "    <tr>\n",
       "      <th>MntFishProducts</th>\n",
       "      <td>0.261608</td>\n",
       "      <td>-0.023992</td>\n",
       "      <td>-0.040425</td>\n",
       "      <td>0.438871</td>\n",
       "      <td>-0.388884</td>\n",
       "      <td>-0.205242</td>\n",
       "      <td>0.000551</td>\n",
       "      <td>0.397721</td>\n",
       "      <td>0.593431</td>\n",
       "      <td>0.573574</td>\n",
       "      <td>1.000000</td>\n",
       "      <td>0.583867</td>\n",
       "      <td>0.427142</td>\n",
       "      <td>-0.143241</td>\n",
       "      <td>0.299688</td>\n",
       "      <td>0.532757</td>\n",
       "      <td>0.457745</td>\n",
       "      <td>-0.446423</td>\n",
       "      <td>-0.021220</td>\n",
       "      <td>0.108145</td>\n",
       "    </tr>\n",
       "    <tr>\n",
       "      <th>MntSweetProducts</th>\n",
       "      <td>0.245102</td>\n",
       "      <td>-0.005936</td>\n",
       "      <td>-0.020204</td>\n",
       "      <td>0.440744</td>\n",
       "      <td>-0.378026</td>\n",
       "      <td>-0.163056</td>\n",
       "      <td>0.025110</td>\n",
       "      <td>0.390326</td>\n",
       "      <td>0.571606</td>\n",
       "      <td>0.535136</td>\n",
       "      <td>0.583867</td>\n",
       "      <td>1.000000</td>\n",
       "      <td>0.357450</td>\n",
       "      <td>-0.121432</td>\n",
       "      <td>0.333937</td>\n",
       "      <td>0.495136</td>\n",
       "      <td>0.455225</td>\n",
       "      <td>-0.422371</td>\n",
       "      <td>-0.022641</td>\n",
       "      <td>0.116170</td>\n",
       "    </tr>\n",
       "    <tr>\n",
       "      <th>MntGoldProds</th>\n",
       "      <td>0.170132</td>\n",
       "      <td>-0.011172</td>\n",
       "      <td>-0.064208</td>\n",
       "      <td>0.325916</td>\n",
       "      <td>-0.355029</td>\n",
       "      <td>-0.019887</td>\n",
       "      <td>0.017663</td>\n",
       "      <td>0.392731</td>\n",
       "      <td>0.396487</td>\n",
       "      <td>0.359446</td>\n",
       "      <td>0.427142</td>\n",
       "      <td>0.357450</td>\n",
       "      <td>1.000000</td>\n",
       "      <td>0.051905</td>\n",
       "      <td>0.407066</td>\n",
       "      <td>0.442428</td>\n",
       "      <td>0.389180</td>\n",
       "      <td>-0.247691</td>\n",
       "      <td>-0.031133</td>\n",
       "      <td>0.140332</td>\n",
       "    </tr>\n",
       "    <tr>\n",
       "      <th>NumDealsPurchases</th>\n",
       "      <td>-0.127374</td>\n",
       "      <td>-0.040612</td>\n",
       "      <td>-0.058668</td>\n",
       "      <td>-0.083101</td>\n",
       "      <td>0.216913</td>\n",
       "      <td>0.386246</td>\n",
       "      <td>0.002115</td>\n",
       "      <td>0.008886</td>\n",
       "      <td>-0.134512</td>\n",
       "      <td>-0.121308</td>\n",
       "      <td>-0.143241</td>\n",
       "      <td>-0.121432</td>\n",
       "      <td>0.051905</td>\n",
       "      <td>1.000000</td>\n",
       "      <td>0.241440</td>\n",
       "      <td>-0.012118</td>\n",
       "      <td>0.066107</td>\n",
       "      <td>0.346048</td>\n",
       "      <td>0.000497</td>\n",
       "      <td>0.003451</td>\n",
       "    </tr>\n",
       "    <tr>\n",
       "      <th>NumWebPurchases</th>\n",
       "      <td>0.159292</td>\n",
       "      <td>-0.018476</td>\n",
       "      <td>-0.153051</td>\n",
       "      <td>0.387878</td>\n",
       "      <td>-0.371977</td>\n",
       "      <td>0.162077</td>\n",
       "      <td>-0.005641</td>\n",
       "      <td>0.553786</td>\n",
       "      <td>0.302039</td>\n",
       "      <td>0.307090</td>\n",
       "      <td>0.299688</td>\n",
       "      <td>0.333937</td>\n",
       "      <td>0.407066</td>\n",
       "      <td>0.241440</td>\n",
       "      <td>1.000000</td>\n",
       "      <td>0.386868</td>\n",
       "      <td>0.516240</td>\n",
       "      <td>-0.051226</td>\n",
       "      <td>-0.016642</td>\n",
       "      <td>0.151431</td>\n",
       "    </tr>\n",
       "    <tr>\n",
       "      <th>NumCatalogPurchases</th>\n",
       "      <td>0.309026</td>\n",
       "      <td>-0.002274</td>\n",
       "      <td>-0.121764</td>\n",
       "      <td>0.589162</td>\n",
       "      <td>-0.504501</td>\n",
       "      <td>-0.112692</td>\n",
       "      <td>0.024081</td>\n",
       "      <td>0.634753</td>\n",
       "      <td>0.486263</td>\n",
       "      <td>0.734127</td>\n",
       "      <td>0.532757</td>\n",
       "      <td>0.495136</td>\n",
       "      <td>0.442428</td>\n",
       "      <td>-0.012118</td>\n",
       "      <td>0.386868</td>\n",
       "      <td>1.000000</td>\n",
       "      <td>0.517840</td>\n",
       "      <td>-0.522004</td>\n",
       "      <td>-0.020839</td>\n",
       "      <td>0.219914</td>\n",
       "    </tr>\n",
       "    <tr>\n",
       "      <th>NumStorePurchases</th>\n",
       "      <td>0.178743</td>\n",
       "      <td>-0.013070</td>\n",
       "      <td>-0.127891</td>\n",
       "      <td>0.529362</td>\n",
       "      <td>-0.501349</td>\n",
       "      <td>0.049737</td>\n",
       "      <td>-0.000434</td>\n",
       "      <td>0.640012</td>\n",
       "      <td>0.458491</td>\n",
       "      <td>0.486006</td>\n",
       "      <td>0.457745</td>\n",
       "      <td>0.455225</td>\n",
       "      <td>0.389180</td>\n",
       "      <td>0.066107</td>\n",
       "      <td>0.516240</td>\n",
       "      <td>0.517840</td>\n",
       "      <td>1.000000</td>\n",
       "      <td>-0.432398</td>\n",
       "      <td>-0.016941</td>\n",
       "      <td>0.036241</td>\n",
       "    </tr>\n",
       "    <tr>\n",
       "      <th>NumWebVisitsMonth</th>\n",
       "      <td>-0.194773</td>\n",
       "      <td>-0.007794</td>\n",
       "      <td>0.123904</td>\n",
       "      <td>-0.553088</td>\n",
       "      <td>0.447477</td>\n",
       "      <td>0.131240</td>\n",
       "      <td>-0.018564</td>\n",
       "      <td>-0.321978</td>\n",
       "      <td>-0.418729</td>\n",
       "      <td>-0.539484</td>\n",
       "      <td>-0.446423</td>\n",
       "      <td>-0.422371</td>\n",
       "      <td>-0.247691</td>\n",
       "      <td>0.346048</td>\n",
       "      <td>-0.051226</td>\n",
       "      <td>-0.522004</td>\n",
       "      <td>-0.432398</td>\n",
       "      <td>1.000000</td>\n",
       "      <td>0.019785</td>\n",
       "      <td>-0.002209</td>\n",
       "    </tr>\n",
       "    <tr>\n",
       "      <th>Complain</th>\n",
       "      <td>-0.025594</td>\n",
       "      <td>0.034154</td>\n",
       "      <td>-0.030407</td>\n",
       "      <td>-0.027225</td>\n",
       "      <td>0.040978</td>\n",
       "      <td>0.003307</td>\n",
       "      <td>0.013637</td>\n",
       "      <td>-0.039470</td>\n",
       "      <td>-0.005324</td>\n",
       "      <td>-0.023782</td>\n",
       "      <td>-0.021220</td>\n",
       "      <td>-0.022641</td>\n",
       "      <td>-0.031133</td>\n",
       "      <td>0.000497</td>\n",
       "      <td>-0.016642</td>\n",
       "      <td>-0.020839</td>\n",
       "      <td>-0.016941</td>\n",
       "      <td>0.019785</td>\n",
       "      <td>1.000000</td>\n",
       "      <td>-0.002029</td>\n",
       "    </tr>\n",
       "    <tr>\n",
       "      <th>Response</th>\n",
       "      <td>0.297345</td>\n",
       "      <td>-0.021491</td>\n",
       "      <td>0.023692</td>\n",
       "      <td>0.133047</td>\n",
       "      <td>-0.077909</td>\n",
       "      <td>-0.153901</td>\n",
       "      <td>-0.199766</td>\n",
       "      <td>0.246299</td>\n",
       "      <td>0.122443</td>\n",
       "      <td>0.237746</td>\n",
       "      <td>0.108145</td>\n",
       "      <td>0.116170</td>\n",
       "      <td>0.140332</td>\n",
       "      <td>0.003451</td>\n",
       "      <td>0.151431</td>\n",
       "      <td>0.219914</td>\n",
       "      <td>0.036241</td>\n",
       "      <td>-0.002209</td>\n",
       "      <td>-0.002029</td>\n",
       "      <td>1.000000</td>\n",
       "    </tr>\n",
       "  </tbody>\n",
       "</table>\n",
       "</div>"
      ],
      "text/plain": [
       "                     AcceptedCmp1        ID  Year_Birth    Income   Kidhome  \\\n",
       "AcceptedCmp1             1.000000 -0.018219   -0.009611  0.276820 -0.174163   \n",
       "ID                      -0.018219  1.000000    0.002355  0.013095  0.001736   \n",
       "Year_Birth              -0.009611  0.002355    1.000000 -0.161791  0.233615   \n",
       "Income                   0.276820  0.013095   -0.161791  1.000000 -0.428669   \n",
       "Kidhome                 -0.174163  0.001736    0.233615 -0.428669  1.000000   \n",
       "Teenhome                -0.144855 -0.003030   -0.350791  0.019133 -0.039869   \n",
       "Recency                 -0.021061 -0.044376   -0.016295 -0.003970  0.011492   \n",
       "MntWines                 0.351417 -0.021084   -0.159451  0.578650 -0.497336   \n",
       "MntFruits                0.191816  0.007326   -0.017747  0.430842 -0.373396   \n",
       "MntMeatProducts          0.313076 -0.005902   -0.033697  0.584633 -0.439261   \n",
       "MntFishProducts          0.261608 -0.023992   -0.040425  0.438871 -0.388884   \n",
       "MntSweetProducts         0.245102 -0.005936   -0.020204  0.440744 -0.378026   \n",
       "MntGoldProds             0.170132 -0.011172   -0.064208  0.325916 -0.355029   \n",
       "NumDealsPurchases       -0.127374 -0.040612   -0.058668 -0.083101  0.216913   \n",
       "NumWebPurchases          0.159292 -0.018476   -0.153051  0.387878 -0.371977   \n",
       "NumCatalogPurchases      0.309026 -0.002274   -0.121764  0.589162 -0.504501   \n",
       "NumStorePurchases        0.178743 -0.013070   -0.127891  0.529362 -0.501349   \n",
       "NumWebVisitsMonth       -0.194773 -0.007794    0.123904 -0.553088  0.447477   \n",
       "Complain                -0.025594  0.034154   -0.030407 -0.027225  0.040978   \n",
       "Response                 0.297345 -0.021491    0.023692  0.133047 -0.077909   \n",
       "\n",
       "                     Teenhome   Recency  MntWines  MntFruits  MntMeatProducts  \\\n",
       "AcceptedCmp1        -0.144855 -0.021061  0.351417   0.191816         0.313076   \n",
       "ID                  -0.003030 -0.044376 -0.021084   0.007326        -0.005902   \n",
       "Year_Birth          -0.350791 -0.016295 -0.159451  -0.017747        -0.033697   \n",
       "Income               0.019133 -0.003970  0.578650   0.430842         0.584633   \n",
       "Kidhome             -0.039869  0.011492 -0.497336  -0.373396        -0.439261   \n",
       "Teenhome             1.000000  0.013838  0.003747  -0.176558        -0.261122   \n",
       "Recency              0.013838  1.000000  0.015721  -0.005844         0.022518   \n",
       "MntWines             0.003747  0.015721  1.000000   0.387024         0.568860   \n",
       "MntFruits           -0.176558 -0.005844  0.387024   1.000000         0.547822   \n",
       "MntMeatProducts     -0.261122  0.022518  0.568860   0.547822         1.000000   \n",
       "MntFishProducts     -0.205242  0.000551  0.397721   0.593431         0.573574   \n",
       "MntSweetProducts    -0.163056  0.025110  0.390326   0.571606         0.535136   \n",
       "MntGoldProds        -0.019887  0.017663  0.392731   0.396487         0.359446   \n",
       "NumDealsPurchases    0.386246  0.002115  0.008886  -0.134512        -0.121308   \n",
       "NumWebPurchases      0.162077 -0.005641  0.553786   0.302039         0.307090   \n",
       "NumCatalogPurchases -0.112692  0.024081  0.634753   0.486263         0.734127   \n",
       "NumStorePurchases    0.049737 -0.000434  0.640012   0.458491         0.486006   \n",
       "NumWebVisitsMonth    0.131240 -0.018564 -0.321978  -0.418729        -0.539484   \n",
       "Complain             0.003307  0.013637 -0.039470  -0.005324        -0.023782   \n",
       "Response            -0.153901 -0.199766  0.246299   0.122443         0.237746   \n",
       "\n",
       "                     MntFishProducts  MntSweetProducts  MntGoldProds  \\\n",
       "AcceptedCmp1                0.261608          0.245102      0.170132   \n",
       "ID                         -0.023992         -0.005936     -0.011172   \n",
       "Year_Birth                 -0.040425         -0.020204     -0.064208   \n",
       "Income                      0.438871          0.440744      0.325916   \n",
       "Kidhome                    -0.388884         -0.378026     -0.355029   \n",
       "Teenhome                   -0.205242         -0.163056     -0.019887   \n",
       "Recency                     0.000551          0.025110      0.017663   \n",
       "MntWines                    0.397721          0.390326      0.392731   \n",
       "MntFruits                   0.593431          0.571606      0.396487   \n",
       "MntMeatProducts             0.573574          0.535136      0.359446   \n",
       "MntFishProducts             1.000000          0.583867      0.427142   \n",
       "MntSweetProducts            0.583867          1.000000      0.357450   \n",
       "MntGoldProds                0.427142          0.357450      1.000000   \n",
       "NumDealsPurchases          -0.143241         -0.121432      0.051905   \n",
       "NumWebPurchases             0.299688          0.333937      0.407066   \n",
       "NumCatalogPurchases         0.532757          0.495136      0.442428   \n",
       "NumStorePurchases           0.457745          0.455225      0.389180   \n",
       "NumWebVisitsMonth          -0.446423         -0.422371     -0.247691   \n",
       "Complain                   -0.021220         -0.022641     -0.031133   \n",
       "Response                    0.108145          0.116170      0.140332   \n",
       "\n",
       "                     NumDealsPurchases  NumWebPurchases  NumCatalogPurchases  \\\n",
       "AcceptedCmp1                 -0.127374         0.159292             0.309026   \n",
       "ID                           -0.040612        -0.018476            -0.002274   \n",
       "Year_Birth                   -0.058668        -0.153051            -0.121764   \n",
       "Income                       -0.083101         0.387878             0.589162   \n",
       "Kidhome                       0.216913        -0.371977            -0.504501   \n",
       "Teenhome                      0.386246         0.162077            -0.112692   \n",
       "Recency                       0.002115        -0.005641             0.024081   \n",
       "MntWines                      0.008886         0.553786             0.634753   \n",
       "MntFruits                    -0.134512         0.302039             0.486263   \n",
       "MntMeatProducts              -0.121308         0.307090             0.734127   \n",
       "MntFishProducts              -0.143241         0.299688             0.532757   \n",
       "MntSweetProducts             -0.121432         0.333937             0.495136   \n",
       "MntGoldProds                  0.051905         0.407066             0.442428   \n",
       "NumDealsPurchases             1.000000         0.241440            -0.012118   \n",
       "NumWebPurchases               0.241440         1.000000             0.386868   \n",
       "NumCatalogPurchases          -0.012118         0.386868             1.000000   \n",
       "NumStorePurchases             0.066107         0.516240             0.517840   \n",
       "NumWebVisitsMonth             0.346048        -0.051226            -0.522004   \n",
       "Complain                      0.000497        -0.016642            -0.020839   \n",
       "Response                      0.003451         0.151431             0.219914   \n",
       "\n",
       "                     NumStorePurchases  NumWebVisitsMonth  Complain  Response  \n",
       "AcceptedCmp1                  0.178743          -0.194773 -0.025594  0.297345  \n",
       "ID                           -0.013070          -0.007794  0.034154 -0.021491  \n",
       "Year_Birth                   -0.127891           0.123904 -0.030407  0.023692  \n",
       "Income                        0.529362          -0.553088 -0.027225  0.133047  \n",
       "Kidhome                      -0.501349           0.447477  0.040978 -0.077909  \n",
       "Teenhome                      0.049737           0.131240  0.003307 -0.153901  \n",
       "Recency                      -0.000434          -0.018564  0.013637 -0.199766  \n",
       "MntWines                      0.640012          -0.321978 -0.039470  0.246299  \n",
       "MntFruits                     0.458491          -0.418729 -0.005324  0.122443  \n",
       "MntMeatProducts               0.486006          -0.539484 -0.023782  0.237746  \n",
       "MntFishProducts               0.457745          -0.446423 -0.021220  0.108145  \n",
       "MntSweetProducts              0.455225          -0.422371 -0.022641  0.116170  \n",
       "MntGoldProds                  0.389180          -0.247691 -0.031133  0.140332  \n",
       "NumDealsPurchases             0.066107           0.346048  0.000497  0.003451  \n",
       "NumWebPurchases               0.516240          -0.051226 -0.016642  0.151431  \n",
       "NumCatalogPurchases           0.517840          -0.522004 -0.020839  0.219914  \n",
       "NumStorePurchases             1.000000          -0.432398 -0.016941  0.036241  \n",
       "NumWebVisitsMonth            -0.432398           1.000000  0.019785 -0.002209  \n",
       "Complain                     -0.016941           0.019785  1.000000 -0.002029  \n",
       "Response                      0.036241          -0.002209 -0.002029  1.000000  "
      ]
     },
     "execution_count": 16,
     "metadata": {},
     "output_type": "execute_result"
    }
   ],
   "source": [
    "corr1 = marketing_data.corr()\n",
    "corr1"
   ]
  },
  {
   "cell_type": "code",
   "execution_count": 17,
   "id": "5b790fe4",
   "metadata": {},
   "outputs": [
    {
     "data": {
      "text/plain": [
       "array([0, 1])"
      ]
     },
     "execution_count": 17,
     "metadata": {},
     "output_type": "execute_result"
    }
   ],
   "source": [
    "marketing_data.Complain.unique()"
   ]
  },
  {
   "cell_type": "code",
   "execution_count": 18,
   "id": "e21d16c6",
   "metadata": {},
   "outputs": [
    {
     "name": "stdout",
     "output_type": "stream",
     "text": [
      "Index(['AcceptedCmp1', 'ID', 'Year_Birth', 'Education', 'Marital_Status',\n",
      "       'Income', 'Kidhome', 'Teenhome', 'Recency', 'MntWines', 'MntFruits',\n",
      "       'MntMeatProducts', 'MntFishProducts', 'MntSweetProducts',\n",
      "       'MntGoldProds', 'NumDealsPurchases', 'NumWebPurchases',\n",
      "       'NumCatalogPurchases', 'NumStorePurchases', 'NumWebVisitsMonth',\n",
      "       'Complain', 'Response'],\n",
      "      dtype='object')\n"
     ]
    }
   ],
   "source": [
    "print(marketing_data.columns)"
   ]
  },
  {
   "cell_type": "code",
   "execution_count": 19,
   "id": "487789d4",
   "metadata": {},
   "outputs": [
    {
     "data": {
      "text/plain": [
       "Married     857\n",
       "Together    573\n",
       "Single      471\n",
       "Divorced    232\n",
       "Widow        76\n",
       "Alone         3\n",
       "Absurd        2\n",
       "YOLO          2\n",
       "Name: Marital_Status, dtype: int64"
      ]
     },
     "execution_count": 19,
     "metadata": {},
     "output_type": "execute_result"
    }
   ],
   "source": [
    "marketing_data['Marital_Status'].value_counts()\n",
    "\n"
   ]
  },
  {
   "cell_type": "code",
   "execution_count": null,
   "id": "c4f697f4",
   "metadata": {},
   "outputs": [],
   "source": []
  },
  {
   "cell_type": "code",
   "execution_count": 20,
   "id": "d371e067",
   "metadata": {},
   "outputs": [
    {
     "data": {
      "image/png": "[encoded data removed]",
      "text/plain": [
       "<Figure size 640x480 with 1 Axes>"
      ]
     },
     "metadata": {},
     "output_type": "display_data"
    }
   ],
   "source": [
    "sns.boxplot(marketing_data.Income, color = 'Blue');"
   ]
  },
  {
   "cell_type": "code",
   "execution_count": 21,
   "id": "65695421",
   "metadata": {},
   "outputs": [
    {
     "data": {
      "image/png": "[encoded data removed]",
      "text/plain": [
       "<Figure size 640x480 with 1 Axes>"
      ]
     },
     "metadata": {},
     "output_type": "display_data"
    }
   ],
   "source": [
    "sns.histplot(marketing_data.Income, kde = True, color = 'yellow');"
   ]
  },
  {
   "cell_type": "code",
   "execution_count": 22,
   "id": "69f19c90",
   "metadata": {},
   "outputs": [
    {
     "data": {
      "image/png": "[encoded data removed]",
      "text/plain": [
       "<Figure size 2000x500 with 1 Axes>"
      ]
     },
     "metadata": {},
     "output_type": "display_data"
    }
   ],
   "source": [
    "plt.figure(figsize = (20,5))\n",
    "sns.lineplot(x = marketing_data.Recency, y = marketing_data.Income, ci = None, color = 'red');\n",
    "\n"
   ]
  },
  {
   "cell_type": "code",
   "execution_count": 23,
   "id": "eb4f3db8",
   "metadata": {},
   "outputs": [
    {
     "data": {
      "text/plain": [
       "Index(['AcceptedCmp1', 'ID', 'Year_Birth', 'Education', 'Marital_Status',\n",
       "       'Income', 'Kidhome', 'Teenhome', 'Recency', 'MntWines', 'MntFruits',\n",
       "       'MntMeatProducts', 'MntFishProducts', 'MntSweetProducts',\n",
       "       'MntGoldProds', 'NumDealsPurchases', 'NumWebPurchases',\n",
       "       'NumCatalogPurchases', 'NumStorePurchases', 'NumWebVisitsMonth',\n",
       "       'Complain', 'Response'],\n",
       "      dtype='object')"
      ]
     },
     "execution_count": 23,
     "metadata": {},
     "output_type": "execute_result"
    }
   ],
   "source": [
    "marketing_data.columns"
   ]
  },
  {
   "cell_type": "code",
   "execution_count": 24,
   "id": "ed189e4c",
   "metadata": {
    "scrolled": true
   },
   "outputs": [
    {
     "name": "stdout",
     "output_type": "stream",
     "text": [
      "<class 'pandas.core.frame.DataFrame'>\n",
      "Int64Index: 2216 entries, 0 to 2239\n",
      "Data columns (total 22 columns):\n",
      " #   Column               Non-Null Count  Dtype  \n",
      "---  ------               --------------  -----  \n",
      " 0   AcceptedCmp1         2216 non-null   int64  \n",
      " 1   ID                   2216 non-null   int64  \n",
      " 2   Year_Birth           2216 non-null   int64  \n",
      " 3   Education            2216 non-null   object \n",
      " 4   Marital_Status       2216 non-null   object \n",
      " 5   Income               2216 non-null   float64\n",
      " 6   Kidhome              2216 non-null   int64  \n",
      " 7   Teenhome             2216 non-null   int64  \n",
      " 8   Recency              2216 non-null   int64  \n",
      " 9   MntWines             2216 non-null   int64  \n",
      " 10  MntFruits            2216 non-null   int64  \n",
      " 11  MntMeatProducts      2216 non-null   int64  \n",
      " 12  MntFishProducts      2216 non-null   int64  \n",
      " 13  MntSweetProducts     2216 non-null   int64  \n",
      " 14  MntGoldProds         2216 non-null   int64  \n",
      " 15  NumDealsPurchases    2216 non-null   int64  \n",
      " 16  NumWebPurchases      2216 non-null   int64  \n",
      " 17  NumCatalogPurchases  2216 non-null   int64  \n",
      " 18  NumStorePurchases    2216 non-null   int64  \n",
      " 19  NumWebVisitsMonth    2216 non-null   int64  \n",
      " 20  Complain             2216 non-null   int64  \n",
      " 21  Response             2216 non-null   int64  \n",
      "dtypes: float64(1), int64(19), object(2)\n",
      "memory usage: 462.7+ KB\n"
     ]
    }
   ],
   "source": [
    "marketing_data.info()"
   ]
  },
  {
   "cell_type": "code",
   "execution_count": 25,
   "id": "7ecff5e6",
   "metadata": {},
   "outputs": [
    {
     "data": {
      "text/plain": [
       "<AxesSubplot:>"
      ]
     },
     "execution_count": 25,
     "metadata": {},
     "output_type": "execute_result"
    },
    {
     "data": {
      "image/png": "[encoded data removed]",
      "text/plain": [
       "<Figure size 1000x1000 with 2 Axes>"
      ]
     },
     "metadata": {},
     "output_type": "display_data"
    }
   ],
   "source": [
    "m = np.triu(np.ones_like(marketing_data.corr(), dtype=bool))\n",
    "plt.figure(figsize=((10,10)))\n",
    "sns.heatmap(corr1, mask=m,cmap = \"YlGnBu\")"
   ]
  },
  {
   "cell_type": "code",
   "execution_count": 26,
   "id": "e81c0cff",
   "metadata": {},
   "outputs": [],
   "source": [
    "marketing_data =pd.get_dummies(marketing_data,columns=['Education','Marital_Status'])\n",
    "y = marketing_data['AcceptedCmp1']\n",
    "marketing_data = marketing_data.drop('AcceptedCmp1', axis= 1)"
   ]
  },
  {
   "cell_type": "code",
   "execution_count": 27,
   "id": "62c2dfd6",
   "metadata": {
    "scrolled": false
   },
   "outputs": [
    {
     "data": {
      "text/plain": [
       "ID                         1.011997\n",
       "Year_Birth                 1.295715\n",
       "Income                     2.220688\n",
       "Kidhome                    1.888144\n",
       "Teenhome                   1.623318\n",
       "Recency                    1.066089\n",
       "MntWines                   2.818380\n",
       "MntFruits                  1.950083\n",
       "MntMeatProducts            3.042361\n",
       "MntFishProducts            2.134381\n",
       "MntSweetProducts           1.933877\n",
       "MntGoldProds               1.526423\n",
       "NumDealsPurchases          1.648197\n",
       "NumWebPurchases            1.976609\n",
       "NumCatalogPurchases        3.040296\n",
       "NumStorePurchases          2.407809\n",
       "NumWebVisitsMonth          2.336202\n",
       "Complain                   1.012236\n",
       "Response                   1.267389\n",
       "Education_2n Cycle              inf\n",
       "Education_Basic                 inf\n",
       "Education_Graduation            inf\n",
       "Education_Master                inf\n",
       "Education_PhD                   inf\n",
       "Marital_Status_Absurd           inf\n",
       "Marital_Status_Alone            inf\n",
       "Marital_Status_Divorced         inf\n",
       "Marital_Status_Married          inf\n",
       "Marital_Status_Single           inf\n",
       "Marital_Status_Together         inf\n",
       "Marital_Status_Widow            inf\n",
       "Marital_Status_YOLO             inf\n",
       "dtype: float64"
      ]
     },
     "execution_count": 27,
     "metadata": {},
     "output_type": "execute_result"
    }
   ],
   "source": [
    "temp = pd.Series([variance_inflation_factor(marketing_data.values, i) for i in range (marketing_data.shape[1])], index = marketing_data.columns)\n",
    "temp"
   ]
  },
  {
   "cell_type": "code",
   "execution_count": 28,
   "id": "212d8ad8",
   "metadata": {},
   "outputs": [],
   "source": [
    "marketing_data = marketing_data.drop(['Education_Basic','Marital_Status_YOLO'], axis= 1)"
   ]
  },
  {
   "cell_type": "code",
   "execution_count": 29,
   "id": "a42c1cef",
   "metadata": {
    "scrolled": true
   },
   "outputs": [
    {
     "data": {
      "text/plain": [
       "ID                            4.006543\n",
       "Year_Birth                 1138.544863\n",
       "Income                       11.780939\n",
       "Kidhome                       3.108344\n",
       "Teenhome                      2.783467\n",
       "Recency                       4.122706\n",
       "MntWines                      5.123752\n",
       "MntFruits                     2.805006\n",
       "MntMeatProducts               4.727440\n",
       "MntFishProducts               3.138770\n",
       "MntSweetProducts              2.769590\n",
       "MntGoldProds                  2.625607\n",
       "NumDealsPurchases             4.053484\n",
       "NumWebPurchases               6.365506\n",
       "NumCatalogPurchases           5.570349\n",
       "NumStorePurchases            10.064300\n",
       "NumWebVisitsMonth            13.555696\n",
       "Complain                      1.019129\n",
       "Response                      1.491519\n",
       "Education_2n Cycle            4.894055\n",
       "Education_Graduation         23.044669\n",
       "Education_Master              8.276299\n",
       "Education_PhD                10.823116\n",
       "Marital_Status_Absurd         2.008264\n",
       "Marital_Status_Alone          2.461612\n",
       "Marital_Status_Divorced     113.369649\n",
       "Marital_Status_Married      417.343105\n",
       "Marital_Status_Single       230.151770\n",
       "Marital_Status_Together     279.063617\n",
       "Marital_Status_Widow         37.549479\n",
       "dtype: float64"
      ]
     },
     "execution_count": 29,
     "metadata": {},
     "output_type": "execute_result"
    }
   ],
   "source": [
    "temp = pd.Series([variance_inflation_factor(marketing_data.values, i) for i in range (marketing_data.shape[1])], index = marketing_data.columns)\n",
    "temp"
   ]
  },
  {
   "cell_type": "code",
   "execution_count": 30,
   "id": "76ed2849",
   "metadata": {},
   "outputs": [],
   "source": [
    "marketing_data = marketing_data.drop(['Marital_Status_Divorced','Marital_Status_Married','Marital_Status_Single','Marital_Status_Together','Year_Birth'],axis= 1)"
   ]
  },
  {
   "cell_type": "code",
   "execution_count": 31,
   "id": "645831a7",
   "metadata": {
    "scrolled": true
   },
   "outputs": [
    {
     "data": {
      "text/plain": [
       "ID                        3.840151\n",
       "Income                   11.004276\n",
       "Kidhome                   3.049145\n",
       "Teenhome                  2.765175\n",
       "Recency                   3.913417\n",
       "MntWines                  4.963844\n",
       "MntFruits                 2.802118\n",
       "MntMeatProducts           4.710854\n",
       "MntFishProducts           3.127106\n",
       "MntSweetProducts          2.766100\n",
       "MntGoldProds              2.620459\n",
       "NumDealsPurchases         3.998136\n",
       "NumWebPurchases           6.317344\n",
       "NumCatalogPurchases       5.501538\n",
       "NumStorePurchases         9.432323\n",
       "NumWebVisitsMonth        10.027872\n",
       "Complain                  1.018437\n",
       "Response                  1.458794\n",
       "Education_2n Cycle        2.965848\n",
       "Education_Graduation     12.392474\n",
       "Education_Master          4.582663\n",
       "Education_PhD             6.036633\n",
       "Marital_Status_Absurd     1.026998\n",
       "Marital_Status_Alone      1.006800\n",
       "Marital_Status_Widow      1.051635\n",
       "dtype: float64"
      ]
     },
     "execution_count": 31,
     "metadata": {},
     "output_type": "execute_result"
    }
   ],
   "source": [
    "temp = pd.Series([variance_inflation_factor(marketing_data.values, i) for i in range (marketing_data.shape[1])], index = marketing_data.columns)\n",
    "temp"
   ]
  },
  {
   "cell_type": "code",
   "execution_count": 32,
   "id": "179fe11e",
   "metadata": {},
   "outputs": [],
   "source": [
    "marketing_data = marketing_data.drop(['Education_Graduation','Income'],axis= 1)"
   ]
  },
  {
   "cell_type": "code",
   "execution_count": 33,
   "id": "c080cefd",
   "metadata": {
    "scrolled": false
   },
   "outputs": [
    {
     "data": {
      "text/plain": [
       "ID                       3.548771\n",
       "Kidhome                  2.814065\n",
       "Teenhome                 2.525665\n",
       "Recency                  3.649540\n",
       "MntWines                 4.772796\n",
       "MntFruits                2.797120\n",
       "MntMeatProducts          4.492761\n",
       "MntFishProducts          3.115893\n",
       "MntSweetProducts         2.756154\n",
       "MntGoldProds             2.613372\n",
       "NumDealsPurchases        3.869739\n",
       "NumWebPurchases          6.243759\n",
       "NumCatalogPurchases      5.304297\n",
       "NumStorePurchases        8.022884\n",
       "NumWebVisitsMonth        7.302341\n",
       "Complain                 1.018183\n",
       "Response                 1.447955\n",
       "Education_2n Cycle       1.176274\n",
       "Education_Master         1.317941\n",
       "Education_PhD            1.547375\n",
       "Marital_Status_Absurd    1.026793\n",
       "Marital_Status_Alone     1.006345\n",
       "Marital_Status_Widow     1.051345\n",
       "dtype: float64"
      ]
     },
     "execution_count": 33,
     "metadata": {},
     "output_type": "execute_result"
    }
   ],
   "source": [
    "temp = pd.Series([variance_inflation_factor(marketing_data.values, i) for i in range (marketing_data.shape[1])], index = marketing_data.columns)\n",
    "temp"
   ]
  },
  {
   "cell_type": "code",
   "execution_count": 34,
   "id": "4e83ae08",
   "metadata": {},
   "outputs": [],
   "source": [
    "marketing_data = marketing_data.drop (['NumStorePurchases','NumWebVisitsMonth','NumWebPurchases'],axis=1)"
   ]
  },
  {
   "cell_type": "code",
   "execution_count": 35,
   "id": "c1660ac8",
   "metadata": {},
   "outputs": [
    {
     "data": {
      "text/plain": [
       "ID                       3.035339\n",
       "Kidhome                  2.357946\n",
       "Teenhome                 2.424615\n",
       "Recency                  3.199736\n",
       "MntWines                 3.741625\n",
       "MntFruits                2.733188\n",
       "MntMeatProducts          4.399890\n",
       "MntFishProducts          3.056174\n",
       "MntSweetProducts         2.666234\n",
       "MntGoldProds             2.502952\n",
       "NumDealsPurchases        3.269406\n",
       "NumCatalogPurchases      5.208569\n",
       "Complain                 1.017522\n",
       "Response                 1.363559\n",
       "Education_2n Cycle       1.157133\n",
       "Education_Master         1.295775\n",
       "Education_PhD            1.520849\n",
       "Marital_Status_Absurd    1.024491\n",
       "Marital_Status_Alone     1.005499\n",
       "Marital_Status_Widow     1.051176\n",
       "dtype: float64"
      ]
     },
     "execution_count": 35,
     "metadata": {},
     "output_type": "execute_result"
    }
   ],
   "source": [
    "temp = pd.Series([variance_inflation_factor(marketing_data.values, i) for i in range (marketing_data.shape[1])], index = marketing_data.columns)\n",
    "temp"
   ]
  },
  {
   "cell_type": "markdown",
   "id": "01e92ea9",
   "metadata": {},
   "source": [
    "## Analysis"
   ]
  },
  {
   "cell_type": "markdown",
   "id": "6e70deed",
   "metadata": {},
   "source": [
    "#### Logistic Regression"
   ]
  },
  {
   "cell_type": "code",
   "execution_count": 36,
   "id": "70b2717d",
   "metadata": {},
   "outputs": [],
   "source": [
    "x = marketing_data"
   ]
  },
  {
   "cell_type": "code",
   "execution_count": 37,
   "id": "39475653",
   "metadata": {},
   "outputs": [],
   "source": [
    "from sklearn.preprocessing import StandardScaler\n",
    "\n",
    "# Normalize the data\n",
    "scaler = StandardScaler()\n",
    "x = scaler.fit_transform(x)\n",
    "#Splitting the data\n",
    "x_train,x_test,y_train,y_test = train_test_split(x,y,test_size=.25, random_state=123)\n"
   ]
  },
  {
   "cell_type": "code",
   "execution_count": 38,
   "id": "091860a5",
   "metadata": {},
   "outputs": [
    {
     "name": "stdout",
     "output_type": "stream",
     "text": [
      "Accuracy of the model is:0.95487\n",
      "Precision: 0.5625\n",
      "Recall: 0.3333333333333333\n"
     ]
    }
   ],
   "source": [
    "logistic_regression= LogisticRegression(solver= 'lbfgs',max_iter=2000)\n",
    "model=logistic_regression.fit(x_train,y_train)\n",
    "pred= model.predict(x_test)\n",
    "print('Accuracy of the model is:{:.5f}'.format(model.score(x_test, y_test)))\n",
    "print(\"Precision:\",metrics.precision_score(y_test,pred))\n",
    "print(\"Recall:\",metrics.recall_score(y_test,pred))"
   ]
  },
  {
   "cell_type": "code",
   "execution_count": 52,
   "id": "e0256806",
   "metadata": {},
   "outputs": [
    {
     "name": "stdout",
     "output_type": "stream",
     "text": [
      "                 Feature  Rank\n",
      "0               Teenhome     1\n",
      "1      NumDealsPurchases     1\n",
      "2    NumCatalogPurchases     1\n",
      "3               Complain     1\n",
      "4     Education_2n Cycle     1\n",
      "5       Education_Master     1\n",
      "6          Education_PhD     1\n",
      "7  Marital_Status_Absurd     1\n",
      "8   Marital_Status_Alone     1\n",
      "9   Marital_Status_Widow     1\n"
     ]
    }
   ],
   "source": [
    "from sklearn.feature_selection import RFE\n",
    "# select features using RFE\n",
    "rfe = RFE(logistic_regression, n_features_to_select=10)\n",
    "fit = rfe.fit(X, y)\n",
    "\n",
    "# Get the top features selected by RFE\n",
    "selected_features = list(X.columns[fit.support_])\n",
    "\n",
    "# Create a DataFrame of the top features\n",
    "df = pd.DataFrame(selected_features, columns=['Feature'])\n",
    "\n",
    "# Add a column for the rank of each feature\n",
    "df['Rank'] = fit.ranking_[fit.support_]\n",
    "\n",
    "# Print the DataFrame\n",
    "print(df)"
   ]
  },
  {
   "cell_type": "markdown",
   "id": "f235486e",
   "metadata": {},
   "source": [
    "#### Q2 Discuss which variables are significant, their business impact, and how that may help you learn about the business.\n",
    "A2 According to the findings,these variables could provide valuable insights for the magazine company to understand their customer base and target their marketing efforts more effectively. For example, the significant role of education level and marital status in predicting subscriptions suggests that the company could tailor their content and advertising towards certain demographic groups. The importance of NumDealsPurchases and NumCatalogPurchases suggests that offering deals or promotions could potentially increase subscriptions.\n",
    "\n",
    "Overall, the RFE analysis highlights the importance of considering a variety of factors in predicting subscriptions, and provides the magazine company with valuable information for optimizing their marketing strategy."
   ]
  },
  {
   "cell_type": "code",
   "execution_count": 53,
   "id": "bc4eabc8",
   "metadata": {
    "scrolled": false
   },
   "outputs": [
    {
     "data": {
      "image/png": "[encoded data removed]",
      "text/plain": [
       "<Figure size 640x480 with 2 Axes>"
      ]
     },
     "metadata": {},
     "output_type": "display_data"
    }
   ],
   "source": [
    "plot_confusion_matrix(logistic_regression,x_test, y_test,cmap='YlGnBu')  \n",
    "plt.show()"
   ]
  },
  {
   "cell_type": "markdown",
   "id": "294b6228",
   "metadata": {},
   "source": [
    "#### SVM Model"
   ]
  },
  {
   "cell_type": "code",
   "execution_count": 54,
   "id": "1fbfc536",
   "metadata": {},
   "outputs": [
    {
     "name": "stdout",
     "output_type": "stream",
     "text": [
      "Accuracy: 0.8447653429602888\n",
      "Precision: 0.4375\n",
      "Recall: 0.17073170731707318\n"
     ]
    }
   ],
   "source": [
    "\n",
    "# define X and y\n",
    "X = marketing_data.drop('Response', axis=1)\n",
    "y = marketing_data['Response']\n",
    "\n",
    "# split data into training and testing sets\n",
    "X_train, X_test, y_train, y_test = train_test_split(X, y, test_size=0.25, random_state=123)\n",
    "\n",
    "# perform SVM model\n",
    "svm_mod = svm.SVC(kernel='linear')\n",
    "svm_mod.fit(X_train, y_train)\n",
    "svm_pred = svm_mod.predict(X_test)\n",
    "\n",
    "# evaluate model performance\n",
    "print(\"Accuracy:\", metrics.accuracy_score(y_test, svm_pred))\n",
    "print(\"Precision:\", metrics.precision_score(y_test, svm_pred))\n",
    "print(\"Recall:\", metrics.recall_score(y_test, svm_pred))"
   ]
  },
  {
   "cell_type": "code",
   "execution_count": 55,
   "id": "7af29349",
   "metadata": {},
   "outputs": [
    {
     "data": {
      "text/plain": [
       "<sklearn.metrics._plot.confusion_matrix.ConfusionMatrixDisplay at 0x7fa8e08ecd30>"
      ]
     },
     "execution_count": 55,
     "metadata": {},
     "output_type": "execute_result"
    },
    {
     "data": {
      "image/png": "[encoded data removed]",
      "text/plain": [
       "<Figure size 640x480 with 2 Axes>"
      ]
     },
     "metadata": {},
     "output_type": "display_data"
    }
   ],
   "source": [
    "plot_confusion_matrix(SVM_mod,x_test,y_test,cmap='Greens')"
   ]
  },
  {
   "cell_type": "markdown",
   "id": "8e01eb08",
   "metadata": {},
   "source": [
    "##### Q3 Discuss the accuracy of the model and how that compares to the logistic model.\n",
    "\n",
    "A3. In terms of accuracy, the logistic model outperforms the SVM model, with an accuracy of 0.95487 compared to 0.84476 for the SVM model. This means that the logistic model has a higher overall correct prediction rate than the SVM model.\n",
    "\n",
    "In terms of precision, the logistic model also outperforms the SVM model, with a precision of 0.5625 compared to 0.4375 for the SVM model. This means that the logistic model is better at correctly identifying positive results than the SVM model."
   ]
  },
  {
   "cell_type": "markdown",
   "id": "8cf0738d",
   "metadata": {},
   "source": [
    "#### Decision Tree "
   ]
  },
  {
   "cell_type": "code",
   "execution_count": 47,
   "id": "8192b8bf",
   "metadata": {},
   "outputs": [
    {
     "name": "stdout",
     "output_type": "stream",
     "text": [
      "Accuracy: 0.855595667870036\n",
      "Precision: 0.75\n",
      "Recall: 0.036585365853658534\n"
     ]
    }
   ],
   "source": [
    "from sklearn.tree import DecisionTreeClassifier\n",
    "from sklearn.metrics import precision_score\n",
    "from sklearn.metrics import recall_score\n",
    "\n",
    "\n",
    "dtc = DecisionTreeClassifier(max_depth=4)  # set maximum depth to 5\n",
    "dtc.fit(X_train, y_train)\n",
    "\n",
    "# Evaluate the model on the test set\n",
    "y_pred = dtc.predict(X_test)\n",
    "accuracy = accuracy_score(y_test, y_pred)\n",
    "precision = precision_score(y_test, y_pred)\n",
    "recall = recall_score(y_test, y_pred)\n",
    "print(\"Accuracy:\", accuracy)\n",
    "print(\"Precision:\", precision)\n",
    "print(\"Recall:\", recall)"
   ]
  },
  {
   "cell_type": "markdown",
   "id": "c4b00dd7",
   "metadata": {},
   "source": [
    "##### Q4 Discuss the accuracy of the model and how that compares to the other two models (variables and accuracy).\n",
    "\n",
    "A4.The decision tree model has an accuracy of 0.8556 which is lower than the accuracy of the logistic regression model (0.9549) but higher than the accuracy of the SVM model (0.8448).\n",
    "\n",
    "However, precision and recall are important metrics to consider in addition to accuracy. The precision of the decision tree model is 0.75 which is higher than the precision of the SVM model (0.4375) but lower than the precision of the logistic regression model (0.5625). This indicates that when the decision tree model predicts a subscription decline, it is correct 75% of the time.\n",
    "In conclusion, the decision tree model has a lower accuracy than the logistic regression model but higher precision than the SVM model. However, the low recall of the decision tree model indicates that it may not be the best model for identifying subscription decline cases.\n"
   ]
  },
  {
   "cell_type": "markdown",
   "id": "da055399",
   "metadata": {},
   "source": [
    "##### Q 5 Discuss which model you would recommend based on these three metrics. Make sure to discuss what key variables they should focus on and their business context once you select your final model (that should be the key takeaway).\n",
    "\n",
    "A5. The logistic regression model, with an accuracy of 0.95487, has the highest precision and recall among the three models. This means that it can predict potential subscribers with a high level of accuracy and has a low false positive and false negative rate. The key variables to focus on would be the features that have a significant impact on the likelihood of a subscription, such as income level, occupation, age, and education. By understanding the key variables that impact subscriptions, the magazine company can tailor their marketing strategy to target potential subscribers more effectively.\n",
    "\n",
    "In the business context, the logistic regression model can help the magazine company identify potential subscribers with high accuracy, which can lead to targeted marketing campaigns and improved subscription rates. Additionally, by understanding the key variables that impact subscriptions, the company can develop new products or services to cater to the needs of their subscribers and improve their overall customer satisfaction."
   ]
  },
  {
   "cell_type": "markdown",
   "id": "c533f4ad",
   "metadata": {},
   "source": [
    "## Conclusion\n",
    "\n",
    "Based on our analysis, we can conclude that the decline in subscriptions for the magazine company may be due to a variety of factors, including the age and income level of the subscribers, the content of the magazine, and the marketing strategies used by the company.\n",
    "\n",
    "We analyzed the data using three different machine learning models: logistic regression, support vector machine (SVM), and decision tree. The logistic regression model had the highest accuracy of 95.48%, while the SVM model had an accuracy of 84.48%, and the decision tree model had an accuracy of 85.56%.\n",
    "\n",
    "The key variables that the company should focus on include the age and income level of the subscribers, the content of the magazine, and the marketing strategies used by the company. By analyzing these variables, the company can identify the factors that are contributing to the decline in subscriptions and develop targeted strategies to address these issues.\n",
    "\n",
    "Overall, our analysis shows that machine learning models can be a valuable tool for companies looking to understand complex business problems and identify key variables that are affecting their performance."
   ]
  },
  {
   "cell_type": "markdown",
   "id": "cd02c070",
   "metadata": {},
   "source": [
    "## References\n",
    "\n",
    "1.G. (2020, October 7). Decision Tree Implementation in Python From Scratch. Analytics Vidhya. https://www.analyticsvidhya.com/blog/2020/10/all-about-decision-tree-from-scratch-with-python-implementation/\n",
    "\n",
    "2.Gandhi, R. (2018, July 5). Support Vector Machine — Introduction to Machine Learning Algorithms. Medium. https://towardsdatascience.com/support-vector-machine-introduction-to-machine-learning-algorithms-934a444fca47\n",
    "\n",
    "3.How does one interpret SVM feature weights? (2012, October 11). Cross Validated. https://stats.stackexchange.com/questions/39243/how-does-one-interpret-svm-feature-weights"
   ]
  }
 ],
 "metadata": {
  "kernelspec": {
   "display_name": "Python 3 (ipykernel)",
   "language": "python",
   "name": "python3"
  },
  "language_info": {
   "codemirror_mode": {
    "name": "ipython",
    "version": 3
   },
   "file_extension": ".py",
   "mimetype": "text/x-python",
   "name": "python",
   "nbconvert_exporter": "python",
   "pygments_lexer": "ipython3",
   "version": "3.9.13"
  }
 },
 "nbformat": 4,
 "nbformat_minor": 5
}
